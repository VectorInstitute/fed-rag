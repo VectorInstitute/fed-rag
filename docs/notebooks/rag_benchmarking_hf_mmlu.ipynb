{
 "cells": [
  {
   "cell_type": "markdown",
   "id": "683e31db-0a58-43c7-bb70-efdbe655a735",
   "metadata": {},
   "source": [
    "<a target=\"_blank\" href=\"https://colab.research.google.com/github/VectorInstitute/fed-rag/blob/main/docs/notebooks/rag_benchmarking_hf_mmlu.ipynb\">\n",
    "  <img src=\"https://colab.research.google.com/assets/colab-badge.svg\" alt=\"Open In Colab\"/>\n",
    "</a>\n",
    "\n",
    "_(NOTE: if running on Colab, you will need to supply a WandB API Key in addition to your HFToken. Also, you'll need to change the runtime to a T4.)_"
   ]
  },
  {
   "cell_type": "markdown",
   "id": "930123f4-a6d3-4a0d-953f-2bd84cb415c4",
   "metadata": {},
   "source": [
    "# Benchmarking RAG Systems (MMLU)\n",
    "\n",
    "In this note book, we demonstrate how one benchmark a RAG system with the `fed-rag` library. Doing so, involves the following steps:\n",
    "\n",
    "1. Build your `RAGSystem` to be benchmarked\n",
    "2. Create a `Benchmarker` object\n",
    "3. Choose your `Benchmark` and run it with the `BenchMarker`\n",
    "\n",
    "In this notebook, we'll make use of the `huggingface-evals` extra which will allow us to utilize the benchmarks defined in the `fed_rag.evals.benchmarks.huggingface` module."
   ]
  },
  {
   "cell_type": "markdown",
   "id": "7497c18e-0c8d-4e24-9faa-b19bed277087",
   "metadata": {},
   "source": [
    "### Install dependencies"
   ]
  },
  {
   "cell_type": "code",
   "execution_count": null,
   "id": "254d8fc1-90a3-4f8d-a68a-cd6a43572913",
   "metadata": {},
   "outputs": [],
   "source": [
    "# If running in a Google Colab, the first attempt at installing fed-rag may fail,\n",
    "# though for reasons unknown to me yet, if you try a second time, it magically works...\n",
    "!pip install fed-rag[huggingface,huggingface-evals] -q"
   ]
  },
  {
   "cell_type": "markdown",
   "id": "587dc55e-d6f2-40f2-a3d2-64e304e6193d",
   "metadata": {},
   "source": [
    "## Build the RAG System"
   ]
  },
  {
   "cell_type": "markdown",
   "id": "92e11c5b-bd44-43c2-8150-0b3be22946de",
   "metadata": {},
   "source": [
    "### Knowledge Store and Retriever"
   ]
  },
  {
   "cell_type": "code",
   "execution_count": 10,
   "id": "1c807325-2ac6-417a-a0f7-7b2ae3762b60",
   "metadata": {},
   "outputs": [],
   "source": [
    "from fed_rag.knowledge_stores.in_memory import InMemoryKnowledgeStore\n",
    "from fed_rag.retrievers.huggingface.hf_sentence_transformer import (\n",
    "    HFSentenceTransformerRetriever,\n",
    ")\n",
    "\n",
    "knowledge_store = InMemoryKnowledgeStore()\n",
    "\n",
    "retriever = HFSentenceTransformerRetriever(\n",
    "    query_model_name=\"nthakur/dragon-plus-query-encoder\",\n",
    "    context_model_name=\"nthakur/dragon-plus-context-encoder\",\n",
    "    load_model_at_init=False,\n",
    ")"
   ]
  },
  {
   "cell_type": "markdown",
   "id": "d31e5aac-6615-4df1-a0a9-62d3da3a0195",
   "metadata": {},
   "source": [
    "### Let's Add Some Knowledge"
   ]
  },
  {
   "cell_type": "code",
   "execution_count": 11,
   "id": "8dfff24c-1286-4db7-a144-b2104b9320ac",
   "metadata": {},
   "outputs": [],
   "source": [
    "# a small sample from the Dec 2021 Wikipedia dump\n",
    "text_chunks = [\n",
    "    {\n",
    "        \"id\": \"140\",\n",
    "        \"title\": \"History of marine biology\",\n",
    "        \"section\": \"James Cook\",\n",
    "        \"text\": \" James Cook is well known for his voyages of exploration for the British Navy in which he mapped out a significant amount of the world's uncharted waters. Cook's explorations took him around the world twice and led to countless descriptions of previously unknown plants and animals. Cook's explorations influenced many others and led to a number of scientists examining marine life more closely. Among those influenced was Charles Darwin who went on to make many contributions of his own. \",\n",
    "    },\n",
    "    {\n",
    "        \"id\": \"141\",\n",
    "        \"title\": \"History of marine biology\",\n",
    "        \"section\": \"Charles Darwin\",\n",
    "        \"text\": \" Charles Darwin, best known for his theory of evolution, made many significant contributions to the early study of marine biology. He spent much of his time from 1831 to 1836 on the voyage of HMS Beagle collecting and studying specimens from a variety of marine organisms. It was also on this expedition where Darwin began to study coral reefs and their formation. He came up with the theory that the overall growth of corals is a balance between the growth of corals upward and the sinking of the sea floor. He then came up with the idea that wherever coral atolls would be found, the central island where the coral had started to grow would be gradually subsiding\",\n",
    "    },\n",
    "    {\n",
    "        \"id\": \"142\",\n",
    "        \"title\": \"History of marine biology\",\n",
    "        \"section\": \"Charles Wyville Thomson\",\n",
    "        \"text\": \" Another influential expedition was the voyage of HMS Challenger from 1872 to 1876, organized and later led by Charles Wyville Thomson. It was the first expedition purely devoted to marine science. The expedition collected and analyzed thousands of marine specimens, laying the foundation for present knowledge about life near the deep-sea floor. The findings from the expedition were a summary of the known natural, physical and chemical ocean science to that time.\",\n",
    "    },\n",
    "]"
   ]
  },
  {
   "cell_type": "code",
   "execution_count": 12,
   "id": "13a09878-fc4e-40a6-bdc7-e312402b7365",
   "metadata": {},
   "outputs": [],
   "source": [
    "from fed_rag.data_structures import KnowledgeNode, NodeType\n",
    "\n",
    "# create knowledge nodes\n",
    "nodes = []\n",
    "texts = []\n",
    "for c in text_chunks:\n",
    "    text = c.pop(\"text\")\n",
    "    title = c.pop(\"title\")\n",
    "    section = c.pop(\"section\")\n",
    "    context_text = f\"title: {title}\\nsection: {section}\\ntext: {text}\"\n",
    "    texts.append(context_text)\n",
    "\n",
    "# batch encode\n",
    "batch_embeddings = retriever.encode_context(texts)\n",
    "\n",
    "for jx, c in enumerate(text_chunks):\n",
    "    node = KnowledgeNode(\n",
    "        embedding=batch_embeddings[jx].tolist(),\n",
    "        node_type=NodeType.TEXT,\n",
    "        text_content=texts[jx],\n",
    "        metadata=c,\n",
    "    )\n",
    "    nodes.append(node)"
   ]
  },
  {
   "cell_type": "code",
   "execution_count": 13,
   "id": "6d885b4e-ba5d-45c0-9ccf-cd1354d7d709",
   "metadata": {},
   "outputs": [],
   "source": [
    "from fed_rag.generators.huggingface import HFPretrainedModelGenerator\n",
    "import torch\n",
    "from transformers.generation.utils import GenerationConfig\n",
    "\n",
    "generation_cfg = GenerationConfig(\n",
    "    do_sample=True,\n",
    "    eos_token_id=151643,\n",
    "    bos_token_id=151643,\n",
    "    max_new_tokens=2048,\n",
    "    top_p=0.9,\n",
    "    temperature=0.6,\n",
    "    cache_implementation=\"offloaded\",\n",
    "    stop_strings=\"</response>\",\n",
    ")\n",
    "generator = HFPretrainedModelGenerator(\n",
    "    model_name=\"Qwen/Qwen2.5-0.5B\",\n",
    "    load_model_at_init=False,\n",
    "    load_model_kwargs={\"device_map\": \"auto\", \"torch_dtype\": torch.float16},\n",
    "    generation_config=generation_cfg,\n",
    ")"
   ]
  },
  {
   "cell_type": "code",
   "execution_count": 14,
   "id": "cae62642-0e6c-4d04-9ac1-315d169e86f4",
   "metadata": {},
   "outputs": [],
   "source": [
    "# load nodes\n",
    "knowledge_store.load_nodes(nodes)"
   ]
  },
  {
   "cell_type": "code",
   "execution_count": 15,
   "id": "8fac17ba-a86b-4a47-9aae-32cefc7cdc6b",
   "metadata": {},
   "outputs": [
    {
     "data": {
      "text/plain": [
       "3"
      ]
     },
     "execution_count": 15,
     "metadata": {},
     "output_type": "execute_result"
    }
   ],
   "source": [
    "knowledge_store.count"
   ]
  },
  {
   "cell_type": "markdown",
   "id": "a5247e79-3c23-446c-9d74-28dfa0075eda",
   "metadata": {},
   "source": [
    "### Define an LLM Generator"
   ]
  },
  {
   "cell_type": "code",
   "execution_count": 16,
   "id": "b665ea34",
   "metadata": {},
   "outputs": [],
   "source": [
    "from fed_rag.generators.huggingface import HFPretrainedModelGenerator\n",
    "import torch\n",
    "from transformers.generation.utils import GenerationConfig\n",
    "\n",
    "generation_cfg = GenerationConfig(\n",
    "    do_sample=True,\n",
    "    eos_token_id=151643,\n",
    "    bos_token_id=151643,\n",
    "    max_new_tokens=2048,\n",
    "    top_p=0.9,\n",
    "    temperature=0.6,\n",
    "    cache_implementation=\"offloaded\",\n",
    "    stop_strings=\"</response>\",\n",
    ")\n",
    "generator = HFPretrainedModelGenerator(\n",
    "    model_name=\"Qwen/Qwen2.5-0.5B\",\n",
    "    load_model_at_init=False,\n",
    "    load_model_kwargs={\"device_map\": \"auto\", \"torch_dtype\": torch.float16},\n",
    "    generation_config=generation_cfg,\n",
    ")"
   ]
  },
  {
   "cell_type": "markdown",
   "id": "306b7ae7-6e88-4fe5-a25f-c7427e87e740",
   "metadata": {},
   "source": [
    "### Assemble the RAG System"
   ]
  },
  {
   "cell_type": "code",
   "execution_count": 17,
   "id": "91d7eb23-3d3b-4859-b818-e78692ab4ab1",
   "metadata": {},
   "outputs": [],
   "source": [
    "from fed_rag import RAGSystem, RAGConfig\n",
    "\n",
    "rag_config = RAGConfig(top_k=2)\n",
    "rag_system = RAGSystem(\n",
    "    knowledge_store=knowledge_store,  # knowledge store loaded from knowledge_store.py\n",
    "    generator=generator,\n",
    "    retriever=retriever,\n",
    "    rag_config=rag_config,\n",
    ")"
   ]
  },
  {
   "cell_type": "code",
   "execution_count": 18,
   "id": "146a5c38-476f-402e-b1cc-aaed0c5e7de4",
   "metadata": {},
   "outputs": [
    {
     "name": "stderr",
     "output_type": "stream",
     "text": [
      "The attention mask and the pad token id were not set. As a consequence, you may observe unexpected behavior. Please pass your input's `attention_mask` to obtain reliable results.\n",
      "Setting `pad_token_id` to `eos_token_id`:151643 for open-end generation.\n"
     ]
    }
   ],
   "source": [
    "# test a query\n",
    "response = rag_system.query(\"Who is James Cook?\")"
   ]
  },
  {
   "cell_type": "code",
   "execution_count": 19,
   "id": "0b4d7dd4-383c-427e-a4f2-5e65b453a3e4",
   "metadata": {},
   "outputs": [
    {
     "name": "stdout",
     "output_type": "stream",
     "text": [
      "\n",
      "You are a helpful assistant. Given the user's query, provide a succinct\n",
      "and accurate response. If context is provided, use it in your answer if it helps\n",
      "you to create the most accurate response.\n",
      "\n",
      "<query>\n",
      "Who is James Cook?\n",
      "</query>\n",
      "\n",
      "<context>\n",
      "title: History of marine biology\n",
      "section: James Cook\n",
      "text:  James Cook is well known for his voyages of exploration for the British Navy in which he mapped out a significant amount of the world's uncharted waters. Cook's explorations took him around the world twice and led to countless descriptions of previously unknown plants and animals. Cook's explorations influenced many others and led to a number of scientists examining marine life more closely. Among those influenced was Charles Darwin who went on to make many contributions of his own. \n",
      "title: History of marine biology\n",
      "section: Charles Wyville Thomson\n",
      "text:  Another influential expedition was the voyage of HMS Challenger from 1872 to 1876, organized and later led by Charles Wyville Thomson. It was the first expedition purely devoted to marine science. The expedition collected and analyzed thousands of marine specimens, laying the foundation for present knowledge about life near the deep-sea floor. The findings from the expedition were a summary of the known natural, physical and chemical ocean science to that time.\n",
      "</context>\n",
      "\n",
      "<response>\n",
      "\n",
      "Assistant: James Cook was a renowned British naval explorer who made significant contributions to marine biology. His voyages of exploration led to numerous descriptions of previously unknown plants and animals. His explorations influenced many scientists, including Charles Darwin, who made many contributions to marine biology.\n"
     ]
    }
   ],
   "source": [
    "print(response)"
   ]
  },
  {
   "cell_type": "markdown",
   "id": "cf96af83-b555-4e83-a8f7-93c6501214f8",
   "metadata": {},
   "source": [
    "## Create `Benchmarker`"
   ]
  },
  {
   "cell_type": "code",
   "execution_count": 20,
   "id": "2ea97c9a-48e2-4db9-ac68-6685c133185e",
   "metadata": {},
   "outputs": [],
   "source": [
    "from fed_rag.evals import Benchmarker"
   ]
  },
  {
   "cell_type": "code",
   "execution_count": 21,
   "id": "d98fe073-db81-4291-8a9f-805ba2edf765",
   "metadata": {},
   "outputs": [],
   "source": [
    "benchmarker = Benchmarker(rag_system=rag_system)"
   ]
  },
  {
   "cell_type": "markdown",
   "id": "46236860-5bfd-4113-b9dd-22f13f0ff87c",
   "metadata": {},
   "source": [
    "## Get the desired Benchmark (MMLU)"
   ]
  },
  {
   "cell_type": "markdown",
   "id": "c8ccbfa9-bf28-4e7d-a197-4a5a44cace45",
   "metadata": {},
   "source": [
    "For this notebook, we'll use a HuggingFace benchmark, namely the MMLU one. The recommended pattern for loading benchmarks from `fed_rag` is illustrated in the cells found below."
   ]
  },
  {
   "cell_type": "code",
   "execution_count": 22,
   "id": "a0f382e2-e879-4123-99c9-c7e8ffc24c12",
   "metadata": {},
   "outputs": [],
   "source": [
    "import fed_rag.evals.benchmarks as benchmarks\n",
    "\n",
    "# define the mmlu benchmark\n",
    "mmlu = benchmarks.HuggingFaceMMLU(streaming=True)"
   ]
  },
  {
   "cell_type": "markdown",
   "id": "e0fd6d39-96fc-4f84-b592-d9b03ec5efc5",
   "metadata": {},
   "source": [
    "In the above, we set `streaming` to `True` since the underlying dataset is quite large. By doing so, we can get a stream of `~fed_rag.data_structures.BenchmarkExample` that we can process."
   ]
  },
  {
   "cell_type": "code",
   "execution_count": 23,
   "id": "d0695db0-40b3-4365-b12b-f70a92cf1d3a",
   "metadata": {},
   "outputs": [
    {
     "data": {
      "text/plain": [
       "BenchmarkExample(query='Find the degree for the given field extension Q(sqrt(2), sqrt(3), sqrt(18)) over Q.\\n\\nA: 0\\nB: 4\\nC: 2\\nD: 6', response='B', context=None)"
      ]
     },
     "execution_count": 23,
     "metadata": {},
     "output_type": "execute_result"
    }
   ],
   "source": [
    "example_stream = mmlu.as_stream()\n",
    "next(example_stream)"
   ]
  },
  {
   "cell_type": "code",
   "execution_count": 24,
   "id": "3fffb850-24a8-4524-9670-d708b5932c20",
   "metadata": {},
   "outputs": [],
   "source": [
    "example_stream.close()  # close the stream"
   ]
  },
  {
   "cell_type": "markdown",
   "id": "34cfc49d-5a81-4175-bdf3-c6168f2368a4",
   "metadata": {},
   "source": [
    "## Define our Evaluation Metric"
   ]
  },
  {
   "cell_type": "markdown",
   "id": "035e4069-818e-4238-a344-d559a441521d",
   "metadata": {},
   "source": [
    "In this notebook, we'll make use of the `ExactMatchEvaluationMetric`."
   ]
  },
  {
   "cell_type": "code",
   "execution_count": 25,
   "id": "bb4bfc8b-18a3-480e-b85c-95031f7883b9",
   "metadata": {},
   "outputs": [],
   "source": [
    "from fed_rag.evals.metrics import ExactMatchEvaluationMetric\n",
    "\n",
    "metric = ExactMatchEvaluationMetric()"
   ]
  },
  {
   "cell_type": "markdown",
   "id": "5ae9e77d-279e-4997-b939-7b5ec4808373",
   "metadata": {},
   "source": [
    "All `BaseEvaluationMetric` are direcly callable (i.e., their special `__call__` methods are implemented). We can see the signature of this method by using the `help` builtin."
   ]
  },
  {
   "cell_type": "code",
   "execution_count": 26,
   "id": "4aa70e54-5c48-4072-8d17-755712603470",
   "metadata": {},
   "outputs": [
    {
     "name": "stdout",
     "output_type": "stream",
     "text": [
      "Help on method __call__ in module fed_rag.evals.metrics.exact_match:\n",
      "\n",
      "__call__(prediction: str, actual: str, *args: Any, **kwargs: Any) -> float method of fed_rag.evals.metrics.exact_match.ExactMatchEvaluationMetric instance\n",
      "    Evaluate an example prediction against the actual response.\n",
      "\n"
     ]
    }
   ],
   "source": [
    "help(metric.__call__)"
   ]
  },
  {
   "cell_type": "markdown",
   "id": "4bd5908e-4a3a-402d-af41-b2e33b7778ba",
   "metadata": {},
   "source": [
    "Exact match is case insensitive."
   ]
  },
  {
   "cell_type": "code",
   "execution_count": 27,
   "id": "5ef24191-85e7-4ede-af4e-3abf096d9cfe",
   "metadata": {},
   "outputs": [
    {
     "data": {
      "text/plain": [
       "1.0"
      ]
     },
     "execution_count": 27,
     "metadata": {},
     "output_type": "execute_result"
    }
   ],
   "source": [
    "metric(prediction=\"A\", actual=\"A\")  # scores 1"
   ]
  },
  {
   "cell_type": "code",
   "execution_count": 28,
   "id": "739931be-0302-4afb-9a74-e9ae73c5ab74",
   "metadata": {},
   "outputs": [
    {
     "data": {
      "text/plain": [
       "1.0"
      ]
     },
     "execution_count": 28,
     "metadata": {},
     "output_type": "execute_result"
    }
   ],
   "source": [
    "metric(prediction=\"A\", actual=\"a\")  # also scores 1"
   ]
  },
  {
   "cell_type": "code",
   "execution_count": 29,
   "id": "204b685a-fd2f-47af-ac09-56ea7d0e67e2",
   "metadata": {},
   "outputs": [
    {
     "data": {
      "text/plain": [
       "0.0"
      ]
     },
     "execution_count": 29,
     "metadata": {},
     "output_type": "execute_result"
    }
   ],
   "source": [
    "metric(prediction=\"A\", actual=\"b\")  # scores 0"
   ]
  },
  {
   "cell_type": "markdown",
   "id": "75b43ff3-a92b-4226-88d2-f97ec9ea27b6",
   "metadata": {},
   "source": [
    "## Run the benchmark"
   ]
  },
  {
   "cell_type": "code",
   "execution_count": 30,
   "id": "1378400e-15c1-4680-a970-3e2e3cce7609",
   "metadata": {},
   "outputs": [
    {
     "name": "stderr",
     "output_type": "stream",
     "text": [
      "The attention mask and the pad token id were not set. As a consequence, you may observe unexpected behavior. Please pass your input's `attention_mask` to obtain reliable results.\n",
      "Setting `pad_token_id` to `eos_token_id`:151643 for open-end generation.\n",
      "The attention mask and the pad token id were not set. As a consequence, you may observe unexpected behavior. Please pass your input's `attention_mask` to obtain reliable results.\n",
      "Setting `pad_token_id` to `eos_token_id`:151643 for open-end generation.\n",
      "The attention mask and the pad token id were not set. As a consequence, you may observe unexpected behavior. Please pass your input's `attention_mask` to obtain reliable results.\n",
      "Setting `pad_token_id` to `eos_token_id`:151643 for open-end generation.\n"
     ]
    }
   ],
   "source": [
    "result = benchmarker.run(\n",
    "    benchmark=mmlu,\n",
    "    metric=metric,\n",
    "    is_streaming=True,\n",
    "    num_examples=3,  # for quick testing only run it on 3 examples\n",
    "    agg=\"avg\",  # can be 'avg', 'sum', 'max', 'min'\n",
    ")"
   ]
  },
  {
   "cell_type": "code",
   "execution_count": 31,
   "id": "36c9350d-ff19-48d4-922f-22de51539ace",
   "metadata": {},
   "outputs": [
    {
     "name": "stdout",
     "output_type": "stream",
     "text": [
      "score=0.0 metric_name='ExactMatchEvaluationMetric' num_examples_used=3 num_total_examples=14042\n"
     ]
    }
   ],
   "source": [
    "print(result)"
   ]
  }
 ],
 "metadata": {
  "kernelspec": {
   "display_name": "Python 3 (ipykernel)",
   "language": "python",
   "name": "python3"
  },
  "language_info": {
   "codemirror_mode": {
    "name": "ipython",
    "version": 3
   },
   "file_extension": ".py",
   "mimetype": "text/x-python",
   "name": "python",
   "nbconvert_exporter": "python",
   "pygments_lexer": "ipython3",
   "version": "3.12.3"
  }
 },
 "nbformat": 4,
 "nbformat_minor": 5
}
