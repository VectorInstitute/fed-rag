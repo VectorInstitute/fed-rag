{
 "cells": [
  {
   "cell_type": "markdown",
   "id": "21cecdd6-4446-4661-967a-4f0af0505201",
   "metadata": {},
   "source": [
    "<a target=\"_blank\" href=\"https://colab.research.google.com/github/VectorInstitute/fed-rag/blob/main/docs/notebooks/integrations/qdrant.ipynb\">\n",
    "  <img src=\"https://colab.research.google.com/assets/colab-badge.svg\" alt=\"Open In Colab\"/>\n",
    "</a>\n",
    "\n",
    "_(NOTE: if running on Colab, you will need to supply a WandB API Key in addition to your HFToken. Also, you'll need to change the runtime to a T4.)_"
   ]
  },
  {
   "cell_type": "markdown",
   "id": "a14c1d30-84f0-45c2-bdc3-c6e74613916f",
   "metadata": {},
   "source": [
    "# Using Qdrant for Knowledge Storage\n",
    "\n",
    "## Introduction\n",
    "\n",
    "The `fed-rag` library supports a simple, in-memory knowledge store for rapid creation and development cycles of RAG systems. For larger scale fine-tuning jobs, you may need a more optimized knowledge store. FedRAG supports a seamless Qdrant integration in the form of the `QdrantKnowledgeStore`, allowing you to connect to any Qdrant service—whether running locally or in a managed/cloud environment.\n",
    "\n",
    "In this notebook, we demonstrate how to launch a local Qdrant service and use it as the knowledge storage for your RAG system."
   ]
  },
  {
   "cell_type": "markdown",
   "id": "248dec17-5225-4d16-8aad-00c0101c7a4b",
   "metadata": {},
   "source": [
    "### Install dependencies\n",
    "\n",
    "The `QdrantKnowledgeStore` requires the installation of the `qdrant` extra. Note that we also will use a HuggingFace `SentenceTransformer` as the retriever/embedding model to encode our knowledge artifacts prior to loading them to our knowledge store."
   ]
  },
  {
   "cell_type": "code",
   "execution_count": null,
   "id": "65ad8f32-d63a-4b9f-8406-79130df4945e",
   "metadata": {},
   "outputs": [],
   "source": [
    "# If running in a Google Colab, the first attempt at installing fed-rag may fail,\n",
    "# though for reasons unknown to me yet, if you try a second time, it magically works...\n",
    "!pip install fed-rag[huggingface,qdrant] -q"
   ]
  },
  {
   "cell_type": "markdown",
   "id": "76b72ad9-15ad-42b1-b972-12a3c449f20b",
   "metadata": {},
   "source": [
    "## Launch a Local Qdrant Service (with Docker)"
   ]
  },
  {
   "cell_type": "code",
   "execution_count": null,
   "id": "599f4ae4-646d-4e31-b584-52f9d6151224",
   "metadata": {},
   "outputs": [],
   "source": []
  },
  {
   "cell_type": "markdown",
   "id": "cad9acbe-16a1-4d29-b140-15d51c05cd16",
   "metadata": {},
   "source": [
    "## Setup the Retriever and `QdrantKnowledgeStore`"
   ]
  },
  {
   "cell_type": "code",
   "execution_count": 4,
   "id": "d7011a15-9288-4884-81e5-af77199c811f",
   "metadata": {},
   "outputs": [],
   "source": [
    "from fed_rag.knowledge_stores import QdrantKnowledgeStore\n",
    "from fed_rag.retrievers.huggingface import (\n",
    "    HFSentenceTransformerRetriever,\n",
    ")\n",
    "from fed_rag.data_structures import KnowledgeNode, NodeType"
   ]
  },
  {
   "cell_type": "code",
   "execution_count": 6,
   "id": "31350970-59d5-447e-9b67-b8a9d78f28f2",
   "metadata": {},
   "outputs": [],
   "source": [
    "QUERY_ENCODER_NAME = \"nthakur/dragon-plus-query-encoder\"\n",
    "CONTEXT_ENCODER_NAME = \"nthakur/dragon-plus-context-encoder\"\n",
    "\n",
    "# retriever\n",
    "retriever = HFSentenceTransformerRetriever(\n",
    "    query_model_name=QUERY_ENCODER_NAME,\n",
    "    context_model_name=CONTEXT_ENCODER_NAME,\n",
    "    load_model_at_init=False,\n",
    ")\n",
    "\n",
    "# knowledge store\n",
    "knowledge_store = QdrantKnowledgeStore(\n",
    "    collection_name=\"nthakur.dragon-plus-context-encoder\"\n",
    ")"
   ]
  },
  {
   "cell_type": "markdown",
   "id": "d31e5aac-6615-4df1-a0a9-62d3da3a0195",
   "metadata": {},
   "source": [
    "### Let's Add Some Knowledge"
   ]
  },
  {
   "cell_type": "code",
   "execution_count": null,
   "id": "8dfff24c-1286-4db7-a144-b2104b9320ac",
   "metadata": {},
   "outputs": [],
   "source": [
    "# a small sample from the Dec 2021 Wikipedia dump\n",
    "text_chunks = [\n",
    "    {\n",
    "        \"id\": \"140\",\n",
    "        \"title\": \"History of marine biology\",\n",
    "        \"section\": \"James Cook\",\n",
    "        \"text\": \" James Cook is well known for his voyages of exploration for the British Navy in which he mapped out a significant amount of the world's uncharted waters. Cook's explorations took him around the world twice and led to countless descriptions of previously unknown plants and animals. Cook's explorations influenced many others and led to a number of scientists examining marine life more closely. Among those influenced was Charles Darwin who went on to make many contributions of his own. \",\n",
    "    },\n",
    "    {\n",
    "        \"id\": \"141\",\n",
    "        \"title\": \"History of marine biology\",\n",
    "        \"section\": \"Charles Darwin\",\n",
    "        \"text\": \" Charles Darwin, best known for his theory of evolution, made many significant contributions to the early study of marine biology. He spent much of his time from 1831 to 1836 on the voyage of HMS Beagle collecting and studying specimens from a variety of marine organisms. It was also on this expedition where Darwin began to study coral reefs and their formation. He came up with the theory that the overall growth of corals is a balance between the growth of corals upward and the sinking of the sea floor. He then came up with the idea that wherever coral atolls would be found, the central island where the coral had started to grow would be gradually subsiding\",\n",
    "    },\n",
    "    {\n",
    "        \"id\": \"142\",\n",
    "        \"title\": \"History of marine biology\",\n",
    "        \"section\": \"Charles Wyville Thomson\",\n",
    "        \"text\": \" Another influential expedition was the voyage of HMS Challenger from 1872 to 1876, organized and later led by Charles Wyville Thomson. It was the first expedition purely devoted to marine science. The expedition collected and analyzed thousands of marine specimens, laying the foundation for present knowledge about life near the deep-sea floor. The findings from the expedition were a summary of the known natural, physical and chemical ocean science to that time.\",\n",
    "    },\n",
    "]"
   ]
  },
  {
   "cell_type": "code",
   "execution_count": null,
   "id": "13a09878-fc4e-40a6-bdc7-e312402b7365",
   "metadata": {},
   "outputs": [],
   "source": [
    "from fed_rag.data_structures import KnowledgeNode, NodeType\n",
    "\n",
    "# create knowledge nodes\n",
    "nodes = []\n",
    "texts = []\n",
    "for c in text_chunks:\n",
    "    text = c.pop(\"text\")\n",
    "    title = c.pop(\"title\")\n",
    "    section = c.pop(\"section\")\n",
    "    context_text = f\"title: {title}\\nsection: {section}\\ntext: {text}\"\n",
    "    texts.append(context_text)\n",
    "\n",
    "# batch encode\n",
    "batch_embeddings = retriever.encode_context(texts)\n",
    "\n",
    "for jx, c in enumerate(text_chunks):\n",
    "    node = KnowledgeNode(\n",
    "        embedding=batch_embeddings[jx].tolist(),\n",
    "        node_type=NodeType.TEXT,\n",
    "        text_content=texts[jx],\n",
    "        metadata=c,\n",
    "    )\n",
    "    nodes.append(node)"
   ]
  },
  {
   "cell_type": "code",
   "execution_count": null,
   "id": "2af785ba-13bf-488a-9561-4718ed0df2a1",
   "metadata": {},
   "outputs": [],
   "source": [
    "knowledge_store.load_nodes(nodes)"
   ]
  },
  {
   "cell_type": "code",
   "execution_count": null,
   "id": "96cb1c9d-02c9-4563-ba64-df1600b7fb1e",
   "metadata": {},
   "outputs": [],
   "source": [
    "knowledge_store.count"
   ]
  },
  {
   "cell_type": "markdown",
   "id": "cb2f6209-1192-4049-b6b0-6ca5ad8e03a9",
   "metadata": {},
   "source": [
    "## Note on Connecting to Managed Qdrant Service\n",
    "\n",
    "If you have a managed Qdrant service, then connecting to is easy. Simply pass in the credentials (i.e., api_key), the host name, the collection name at instantiation. "
   ]
  },
  {
   "cell_type": "code",
   "execution_count": null,
   "id": "8c0b0ea1-3635-4880-a0c3-ace0329bcbca",
   "metadata": {},
   "outputs": [],
   "source": [
    "knowledge_store = QdrantKnowledgeStore(\n",
    "    # qdrant credentials\n",
    "    api_key=\"...\",\n",
    "    host=\"...\",\n",
    "    collection_name=\"...\",\n",
    "    https=True,\n",
    ")"
   ]
  }
 ],
 "metadata": {
  "kernelspec": {
   "display_name": "Python 3 (ipykernel)",
   "language": "python",
   "name": "python3"
  },
  "language_info": {
   "codemirror_mode": {
    "name": "ipython",
    "version": 3
   },
   "file_extension": ".py",
   "mimetype": "text/x-python",
   "name": "python",
   "nbconvert_exporter": "python",
   "pygments_lexer": "ipython3",
   "version": "3.12.3"
  }
 },
 "nbformat": 4,
 "nbformat_minor": 5
}
