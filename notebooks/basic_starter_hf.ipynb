{
 "cells": [
  {
   "cell_type": "markdown",
   "id": "70a570c4-60fe-47f2-8693-a827f9d361c6",
   "metadata": {},
   "source": [
    "<a target=\"_blank\" href=\"https://colab.research.google.com/github/VectorInstitute/fed-rag/blob/nerdai/starter-nbs/notebooks/basic_starter_hf.ipynb\">\n",
    "  <img src=\"https://colab.research.google.com/assets/colab-badge.svg\" alt=\"Open In Colab\"/>\n",
    "</a>"
   ]
  },
  {
   "cell_type": "markdown",
   "id": "3ec903c3-7500-44c4-9593-d87e2cfebdb5",
   "metadata": {},
   "source": [
    "# Basic Starter Example\n",
    "\n",
    "In this notebook, we'll build a `RAGSystem` and fine-tune both the generator and retriever using the `huggingface` extra."
   ]
  },
  {
   "cell_type": "markdown",
   "id": "7497c18e-0c8d-4e24-9faa-b19bed277087",
   "metadata": {},
   "source": [
    "### Install dependencies"
   ]
  },
  {
   "cell_type": "code",
   "execution_count": null,
   "id": "254d8fc1-90a3-4f8d-a68a-cd6a43572913",
   "metadata": {},
   "outputs": [],
   "source": [
    "# If running in a Google Colab, uncomment the line below to remove some conflicting deps\n",
    "# !pip uninstall gcsfs grpcio-status -y -q\n",
    "\n",
    "!pip install fed-rag[huggingface] -q"
   ]
  },
  {
   "cell_type": "markdown",
   "id": "587dc55e-d6f2-40f2-a3d2-64e304e6193d",
   "metadata": {},
   "source": [
    "## Build the RAG System"
   ]
  },
  {
   "cell_type": "markdown",
   "id": "92e11c5b-bd44-43c2-8150-0b3be22946de",
   "metadata": {},
   "source": [
    "### Knowledge Store and Retriever"
   ]
  },
  {
   "cell_type": "code",
   "execution_count": 1,
   "id": "7753c3f4-7a84-4197-b5a0-83908308797c",
   "metadata": {},
   "outputs": [],
   "source": [
    "from fed_rag.knowledge_stores.in_memory import InMemoryKnowledgeStore\n",
    "from fed_rag.retrievers.huggingface.hf_sentence_transformer import HFSentenceTransformerRetriever"
   ]
  },
  {
   "cell_type": "code",
   "execution_count": 2,
   "id": "e3a94db7-82be-4ee2-82f4-a8d68166959d",
   "metadata": {},
   "outputs": [],
   "source": [
    "knowledge_store = InMemoryKnowledgeStore()\n",
    "\n",
    "retriever = HFSentenceTransformerRetriever(\n",
    "    query_model_name=\"nthakur/dragon-plus-query-encoder\",\n",
    "    context_model_name=\"nthakur/dragon-plus-context-encoder\",\n",
    "    load_model_at_init=False,\n",
    ")"
   ]
  },
  {
   "cell_type": "markdown",
   "id": "d31e5aac-6615-4df1-a0a9-62d3da3a0195",
   "metadata": {},
   "source": [
    "### Let's Add Some Knowledge"
   ]
  },
  {
   "cell_type": "code",
   "execution_count": 3,
   "id": "8dfff24c-1286-4db7-a144-b2104b9320ac",
   "metadata": {},
   "outputs": [],
   "source": [
    "# a small sample from the Dec 2021 Wikipedia dump\n",
    "text_chunks = [\n",
    "    {\"id\": \"140\", \"title\": \"History of marine biology\", \"section\": \"James Cook\", \"text\": \" James Cook is well known for his voyages of exploration for the British Navy in which he mapped out a significant amount of the world's uncharted waters. Cook's explorations took him around the world twice and led to countless descriptions of previously unknown plants and animals. Cook's explorations influenced many others and led to a number of scientists examining marine life more closely. Among those influenced was Charles Darwin who went on to make many contributions of his own. \"},\n",
    "    {\"id\": \"141\", \"title\": \"History of marine biology\", \"section\": \"Charles Darwin\", \"text\": \" Charles Darwin, best known for his theory of evolution, made many significant contributions to the early study of marine biology. He spent much of his time from 1831 to 1836 on the voyage of HMS Beagle collecting and studying specimens from a variety of marine organisms. It was also on this expedition where Darwin began to study coral reefs and their formation. He came up with the theory that the overall growth of corals is a balance between the growth of corals upward and the sinking of the sea floor. He then came up with the idea that wherever coral atolls would be found, the central island where the coral had started to grow would be gradually subsiding\"},\n",
    "    {\"id\": \"142\", \"title\": \"History of marine biology\", \"section\": \"Charles Wyville Thomson\", \"text\": \" Another influential expedition was the voyage of HMS Challenger from 1872 to 1876, organized and later led by Charles Wyville Thomson. It was the first expedition purely devoted to marine science. The expedition collected and analyzed thousands of marine specimens, laying the foundation for present knowledge about life near the deep-sea floor. The findings from the expedition were a summary of the known natural, physical and chemical ocean science to that time.\"},\n",
    "    {\"id\": \"143\", \"title\": \"History of marine biology\", \"section\": \"Later exploration\", \"text\": \" This era of marine exploration came to a close with the first and second round-the-world voyages of the Danish Galathea expeditions and Atlantic voyages by the USS Albatross, the first research vessel purpose built for marine research. These voyages further cleared the way for modern marine biology by building a base of knowledge about marine biology. This was followed by the progressive development of more advanced technologies which began to allow more extensive explorations of ocean depths that were once thought too deep to sustain life.\"},\n",
    "    {\"id\": \"144\", \"title\": \"History of marine biology\", \"section\": \"Marine biology labs\", \"text\": \" In the 1960s and 1970s, ecological research into the life of the ocean was undertaken at institutions set up specifically to study marine biology. Notable was the Woods Hole Oceanographic Institution in America, which established a model for other marine laboratories subsequently set up around the world. Their findings of unexpectedly high species diversity in places thought to be inhabitable stimulated much theorizing by population ecologists on how high diversification could be maintained in such a food-poor and seemingly hostile environment. \"},\n",
    "    {\"id\": \"145\", \"title\": \"History of marine biology\", \"section\": \"Exploration technology\", \"text\": \" In the past, the study of marine biology has been limited by a lack of technology as researchers could only go so deep to examine life in the ocean. Before the mid-twentieth century, the deep-sea bottom could not be seen unless one dredged a piece of it and brought it to the surface. This has changed dramatically due to the development of new technologies in both the laboratory and the open sea. These new technological developments have allowed scientists to explore parts of the ocean they didn't even know existed. The development of scuba gear allowed researchers to visually explore the oceans as it contains a self-contained underwater breathing apparatus allowing a person to breathe while being submerged 100 to 200 feet \"},\n",
    "    {\"id\": \"146\", \"title\": \"History of marine biology\", \"section\": \"Exploration technology\", \"text\": \" the ocean. Submersibles were built like small submarines with the purpose of taking marine scientists to deeper depths of the ocean while protecting them from increasing atmospheric pressures that cause complications deep under water. The first models could hold several individuals and allowed limited visibility but enabled marine biologists to see and photograph the deeper portions of the oceans. Remotely operated underwater vehicles are now used with and without submersibles to see the deepest areas of the ocean that would be too dangerous for humans. ROVs are fully equipped with cameras and sampling equipment which allows researchers to see and control everything the vehicle does. ROVs have become the dominant type of technology used to view the deepest parts of the ocean.\"},\n",
    "    {\"id\": \"147\", \"title\": \"History of marine biology\", \"section\": \"Romanticization\", \"text\": \" In the late 20th century and into the 21st, marine biology was \\\"glorified and romanticized through films and television shows,\\\" leading to an influx in interested students who required a damping on their enthusiasm with the day-to-day realities of the field.\"},\n",
    "    {\"id\": \"148\", \"title\": \"Wynthryth\", \"section\": \"\", \"text\": \" Wynthryth of March was an early medieval saint of Anglo Saxon England. He is known to history from the Secgan Hagiography and The Confraternity Book of  St Gallen. Very little is known of his life or career. However, he was associated with the town of March, Cambridgeshire, and he may have been a relative of King Ethelstan.\"},\n",
    "    {\"id\": \"149\", \"title\": \"James M. Safford\", \"section\": \"\", \"text\": \" James Merrill Safford (1822–1907) was an American geologist, chemist and university professor.\"},\n",
    "    {\"id\": \"150\", \"title\": \"James M. Safford\", \"section\": \"Early life\", \"text\": \" James M. Safford was born in Putnam, Ohio on August 13, 1822. He received an M.D. and a PhD. He was trained as a chemist at Yale University. He married Catherine K. Owens in 1859, and they had two children.\"},\n",
    "    {\"id\": \"151\", \"title\": \"James M. Safford\", \"section\": \"Career\", \"text\": \" Safford taught at Cumberland University in Lebanon, Tennessee from 1848 to 1873. He served as a Professor of Mineralogy, Botany, and Economical Geology at Vanderbilt University in Nashville, Tennessee from 1875 to 1900. He was a Presbyterian, and often started his lessons with a prayer. He served on the Tennessee Board of Health. Additionally, he acted as a chemist for the Tennessee Bureau of Agriculture in the 1870s and 1880s. He published fifty-four books, reports, and maps.\"},\n",
    "    {\"id\": \"152\", \"title\": \"James M. Safford\", \"section\": \"Death\", \"text\": \" He died in Dallas on July 2, 1907.\"}\n",
    "]"
   ]
  },
  {
   "cell_type": "markdown",
   "id": "51894e82-639e-4332-8e45-0dea7f3e3144",
   "metadata": {},
   "source": [
    "From these text chunks, we can create our `KnowledgeNodes`."
   ]
  },
  {
   "cell_type": "code",
   "execution_count": 4,
   "id": "13a09878-fc4e-40a6-bdc7-e312402b7365",
   "metadata": {},
   "outputs": [],
   "source": [
    "from fed_rag.types import KnowledgeNode, NodeType\n",
    "\n",
    "# create knowledge nodes\n",
    "nodes = []\n",
    "texts = []\n",
    "for c in text_chunks:\n",
    "    text = c.pop(\"text\")\n",
    "    title = c.pop(\"title\")\n",
    "    section = c.pop(\"section\")\n",
    "    context_text = f\"title: {title}\\nsection: {section}\\ntext: {text}\"\n",
    "    texts.append(context_text)\n",
    "\n",
    "# batch encode\n",
    "batch_embeddings = retriever.encode_context(texts)\n",
    "\n",
    "for jx, c in enumerate(text_chunks):\n",
    "    node = KnowledgeNode(\n",
    "        embedding=batch_embeddings[jx].tolist(),\n",
    "        node_type=NodeType.TEXT,\n",
    "        text_content=texts[jx],\n",
    "        metadata=c,\n",
    "    )\n",
    "    nodes.append(node)"
   ]
  },
  {
   "cell_type": "code",
   "execution_count": 5,
   "id": "a51daa4d-cd81-45a8-a766-893febb67cf0",
   "metadata": {
    "scrolled": true
   },
   "outputs": [
    {
     "data": {
      "text/plain": [
       "{'node_id': '7da5b8fb-1120-4e87-bd60-c6ee926bdcb2',\n",
       " 'embedding': [-0.5035284161567688,\n",
       "  0.2955470383167267,\n",
       "  1.2078301906585693,\n",
       "  -1.1960442066192627,\n",
       "  3.1956987380981445,\n",
       "  0.4987238943576813,\n",
       "  2.5280067920684814,\n",
       "  0.7526034116744995,\n",
       "  -1.363178014755249,\n",
       "  -3.375396490097046,\n",
       "  -1.1977574825286865,\n",
       "  1.1531143188476562,\n",
       "  -3.409181833267212,\n",
       "  2.779716968536377,\n",
       "  -0.4366621673107147,\n",
       "  3.8128018379211426,\n",
       "  3.6493000984191895,\n",
       "  0.9509709477424622,\n",
       "  0.690930962562561,\n",
       "  -2.0885021686553955,\n",
       "  0.2125750035047531,\n",
       "  -1.6654396057128906,\n",
       "  3.030693292617798,\n",
       "  1.09792160987854,\n",
       "  1.3629957437515259,\n",
       "  0.4874677360057831,\n",
       "  2.511414051055908,\n",
       "  -0.3636608123779297,\n",
       "  -3.6187758445739746,\n",
       "  2.4982547760009766,\n",
       "  1.9444283246994019,\n",
       "  0.1747250258922577,\n",
       "  2.3618717193603516,\n",
       "  -1.9833250045776367,\n",
       "  -3.0685901641845703,\n",
       "  0.9290613532066345,\n",
       "  -3.0934159755706787,\n",
       "  -1.5266400575637817,\n",
       "  -1.1145700216293335,\n",
       "  -2.1827611923217773,\n",
       "  -1.251097321510315,\n",
       "  -2.343719244003296,\n",
       "  -1.7030551433563232,\n",
       "  0.591189980506897,\n",
       "  -2.122391939163208,\n",
       "  -0.35377541184425354,\n",
       "  -9.964069366455078,\n",
       "  2.4391086101531982,\n",
       "  -2.171226978302002,\n",
       "  -2.024494171142578,\n",
       "  -1.7986239194869995,\n",
       "  1.5880507230758667,\n",
       "  3.8763790130615234,\n",
       "  3.593085527420044,\n",
       "  0.37449395656585693,\n",
       "  0.4599670171737671,\n",
       "  -1.0124410390853882,\n",
       "  -2.2362520694732666,\n",
       "  -0.4739377796649933,\n",
       "  -5.034198760986328,\n",
       "  3.6306369304656982,\n",
       "  2.1194510459899902,\n",
       "  -1.338107943534851,\n",
       "  -0.2216619849205017,\n",
       "  0.1483575850725174,\n",
       "  1.7971185445785522,\n",
       "  0.016530463472008705,\n",
       "  0.5567198991775513,\n",
       "  -2.2321062088012695,\n",
       "  -2.8770878314971924,\n",
       "  0.6116727590560913,\n",
       "  2.7723774909973145,\n",
       "  -2.748283863067627,\n",
       "  -0.5849878191947937,\n",
       "  -0.11898616701364517,\n",
       "  -3.242638349533081,\n",
       "  -2.131204605102539,\n",
       "  2.477740526199341,\n",
       "  2.5831215381622314,\n",
       "  2.122497320175171,\n",
       "  -0.8161424994468689,\n",
       "  -1.7556915283203125,\n",
       "  1.388113021850586,\n",
       "  3.0629608631134033,\n",
       "  -1.3215128183364868,\n",
       "  -2.86492657661438,\n",
       "  1.3034601211547852,\n",
       "  0.6139225959777832,\n",
       "  -2.7174124717712402,\n",
       "  2.6917800903320312,\n",
       "  -1.478042483329773,\n",
       "  -4.084054470062256,\n",
       "  2.028285503387451,\n",
       "  1.6315439939498901,\n",
       "  0.8251091837882996,\n",
       "  -1.4379990100860596,\n",
       "  5.967270851135254,\n",
       "  -1.1301369667053223,\n",
       "  1.675623893737793,\n",
       "  -0.700751006603241,\n",
       "  -3.339995861053467,\n",
       "  -1.8063385486602783,\n",
       "  -0.2965267300605774,\n",
       "  -0.7594281435012817,\n",
       "  -3.206036329269409,\n",
       "  3.2169981002807617,\n",
       "  -1.321175217628479,\n",
       "  -0.8503016233444214,\n",
       "  -2.30228590965271,\n",
       "  2.0073673725128174,\n",
       "  -1.0891647338867188,\n",
       "  -0.8204240202903748,\n",
       "  -1.8958325386047363,\n",
       "  -2.0152156352996826,\n",
       "  -1.3467963933944702,\n",
       "  4.2129058837890625,\n",
       "  0.5252615809440613,\n",
       "  -1.740388035774231,\n",
       "  -1.973044991493225,\n",
       "  0.6081579327583313,\n",
       "  1.9986873865127563,\n",
       "  4.11535120010376,\n",
       "  0.9911630153656006,\n",
       "  1.7671632766723633,\n",
       "  0.26489561796188354,\n",
       "  -2.7016937732696533,\n",
       "  0.6029626727104187,\n",
       "  2.460313081741333,\n",
       "  -3.947068929672241,\n",
       "  -1.4393959045410156,\n",
       "  -0.1734388917684555,\n",
       "  2.353142023086548,\n",
       "  3.627302646636963,\n",
       "  -1.398093342781067,\n",
       "  -0.14713425934314728,\n",
       "  -2.498131513595581,\n",
       "  -0.07437252998352051,\n",
       "  0.2832256853580475,\n",
       "  0.1952231526374817,\n",
       "  4.784077167510986,\n",
       "  -1.004600167274475,\n",
       "  -0.1279071718454361,\n",
       "  -0.7178140878677368,\n",
       "  -0.19643062353134155,\n",
       "  -0.5236378908157349,\n",
       "  -5.151534557342529,\n",
       "  0.5775222778320312,\n",
       "  -1.6396933794021606,\n",
       "  -3.946706771850586,\n",
       "  1.8378150463104248,\n",
       "  -0.4842998683452606,\n",
       "  2.574234962463379,\n",
       "  -1.4311738014221191,\n",
       "  -4.00966215133667,\n",
       "  -0.6035528779029846,\n",
       "  3.1984012126922607,\n",
       "  2.5580191612243652,\n",
       "  1.4098289012908936,\n",
       "  -2.4557695388793945,\n",
       "  -5.3142781257629395,\n",
       "  1.458595633506775,\n",
       "  0.13770873844623566,\n",
       "  -0.11080564558506012,\n",
       "  -2.3392446041107178,\n",
       "  3.702728509902954,\n",
       "  0.29796814918518066,\n",
       "  3.0750205516815186,\n",
       "  -1.057820439338684,\n",
       "  -0.6801067590713501,\n",
       "  -0.5352492332458496,\n",
       "  -0.9926487803459167,\n",
       "  -1.088112235069275,\n",
       "  2.41017746925354,\n",
       "  -0.4616518020629883,\n",
       "  -3.0188143253326416,\n",
       "  3.7415037155151367,\n",
       "  4.4811177253723145,\n",
       "  0.40194466710090637,\n",
       "  2.1245005130767822,\n",
       "  -0.37878167629241943,\n",
       "  -5.015170574188232,\n",
       "  2.909494638442993,\n",
       "  -0.5974909067153931,\n",
       "  0.8911140561103821,\n",
       "  0.3586465120315552,\n",
       "  -0.4877544343471527,\n",
       "  1.8354068994522095,\n",
       "  0.5970677733421326,\n",
       "  2.582911491394043,\n",
       "  1.824618935585022,\n",
       "  -3.4034671783447266,\n",
       "  -3.957876443862915,\n",
       "  2.860306978225708,\n",
       "  -2.373556137084961,\n",
       "  4.42161226272583,\n",
       "  -1.165174126625061,\n",
       "  -1.221477746963501,\n",
       "  4.326619625091553,\n",
       "  2.0124218463897705,\n",
       "  2.2899279594421387,\n",
       "  -2.779088258743286,\n",
       "  -0.8321725130081177,\n",
       "  6.69909143447876,\n",
       "  -2.062635898590088,\n",
       "  -4.196798801422119,\n",
       "  1.5034574270248413,\n",
       "  2.3398141860961914,\n",
       "  -1.8427352905273438,\n",
       "  2.232417106628418,\n",
       "  2.2417612075805664,\n",
       "  -0.8734017014503479,\n",
       "  -1.750598430633545,\n",
       "  1.9561893939971924,\n",
       "  2.0632011890411377,\n",
       "  0.6033056974411011,\n",
       "  -3.326962947845459,\n",
       "  3.3313207626342773,\n",
       "  -2.082909345626831,\n",
       "  6.128748893737793,\n",
       "  -2.757425308227539,\n",
       "  2.87343692779541,\n",
       "  1.2785484790802002,\n",
       "  -0.20030365884304047,\n",
       "  2.96055269241333,\n",
       "  -2.1949989795684814,\n",
       "  3.8102049827575684,\n",
       "  3.1603238582611084,\n",
       "  -3.94486403465271,\n",
       "  1.1382018327713013,\n",
       "  -1.8799210786819458,\n",
       "  -2.615786075592041,\n",
       "  -0.5853853821754456,\n",
       "  1.8784449100494385,\n",
       "  -2.782266616821289,\n",
       "  1.2967721223831177,\n",
       "  0.2007044106721878,\n",
       "  -0.5167441964149475,\n",
       "  -2.211840867996216,\n",
       "  1.9935237169265747,\n",
       "  -3.2292399406433105,\n",
       "  0.9379158616065979,\n",
       "  2.7518460750579834,\n",
       "  -1.7177902460098267,\n",
       "  3.377622604370117,\n",
       "  -0.41713398694992065,\n",
       "  -0.7837512493133545,\n",
       "  1.5535959005355835,\n",
       "  -0.8200034499168396,\n",
       "  -2.8824427127838135,\n",
       "  -1.3044875860214233,\n",
       "  -2.237297773361206,\n",
       "  3.2677559852600098,\n",
       "  -0.5710033178329468,\n",
       "  0.7083922624588013,\n",
       "  3.0263686180114746,\n",
       "  -3.2089779376983643,\n",
       "  -1.4637742042541504,\n",
       "  -0.7831911444664001,\n",
       "  2.4206299781799316,\n",
       "  2.5806429386138916,\n",
       "  -0.140639066696167,\n",
       "  -0.7110257148742676,\n",
       "  -0.6290900111198425,\n",
       "  -0.22760768234729767,\n",
       "  -3.0722482204437256,\n",
       "  -4.110042572021484,\n",
       "  -2.3138315677642822,\n",
       "  -2.3257601261138916,\n",
       "  1.8562909364700317,\n",
       "  0.40179985761642456,\n",
       "  2.359003782272339,\n",
       "  2.5619547367095947,\n",
       "  -3.3884835243225098,\n",
       "  1.6115168333053589,\n",
       "  -0.8667654991149902,\n",
       "  -1.4642456769943237,\n",
       "  2.8231465816497803,\n",
       "  0.5738492012023926,\n",
       "  0.05368555337190628,\n",
       "  -3.607506513595581,\n",
       "  0.25386643409729004,\n",
       "  2.80881404876709,\n",
       "  -1.5673627853393555,\n",
       "  -8.010353088378906,\n",
       "  -0.7630615830421448,\n",
       "  -2.1644136905670166,\n",
       "  1.118320345878601,\n",
       "  -3.544947385787964,\n",
       "  -1.9002456665039062,\n",
       "  0.014262848533689976,\n",
       "  -0.34281444549560547,\n",
       "  0.29585736989974976,\n",
       "  -1.7857091426849365,\n",
       "  -0.7365664839744568,\n",
       "  1.2321416139602661,\n",
       "  0.8993383049964905,\n",
       "  -1.5569076538085938,\n",
       "  2.130091667175293,\n",
       "  2.475320339202881,\n",
       "  -1.5361698865890503,\n",
       "  -3.361926794052124,\n",
       "  4.248359203338623,\n",
       "  -1.9398730993270874,\n",
       "  1.6125973463058472,\n",
       "  3.0620739459991455,\n",
       "  -1.8571275472640991,\n",
       "  -1.2310937643051147,\n",
       "  -2.593674421310425,\n",
       "  -18.944459915161133,\n",
       "  0.10960587859153748,\n",
       "  -1.2983249425888062,\n",
       "  3.1109161376953125,\n",
       "  2.317595958709717,\n",
       "  2.1504578590393066,\n",
       "  0.7671989798545837,\n",
       "  -0.16128261387348175,\n",
       "  -0.9242424368858337,\n",
       "  0.9371749758720398,\n",
       "  -1.6655147075653076,\n",
       "  1.568102478981018,\n",
       "  -0.7391076683998108,\n",
       "  3.645172595977783,\n",
       "  2.7965235710144043,\n",
       "  -1.5766252279281616,\n",
       "  -2.2454898357391357,\n",
       "  -1.9545599222183228,\n",
       "  -0.3688887655735016,\n",
       "  2.682680130004883,\n",
       "  -3.1152312755584717,\n",
       "  -3.2287776470184326,\n",
       "  -0.2695551812648773,\n",
       "  3.8576080799102783,\n",
       "  0.3900328576564789,\n",
       "  2.422410726547241,\n",
       "  -3.0310683250427246,\n",
       "  0.5423747301101685,\n",
       "  -2.5451204776763916,\n",
       "  -1.3421443700790405,\n",
       "  -0.49117806553840637,\n",
       "  -1.2621243000030518,\n",
       "  1.4177976846694946,\n",
       "  -0.22532765567302704,\n",
       "  -0.03520144149661064,\n",
       "  -0.9254977107048035,\n",
       "  0.8272843956947327,\n",
       "  -4.807483196258545,\n",
       "  0.23569917678833008,\n",
       "  -3.0065224170684814,\n",
       "  0.8662681579589844,\n",
       "  -2.8383569717407227,\n",
       "  -2.894436836242676,\n",
       "  -0.2558159828186035,\n",
       "  2.048628330230713,\n",
       "  -6.613044261932373,\n",
       "  -1.276120662689209,\n",
       "  -0.022252844646573067,\n",
       "  -0.279610812664032,\n",
       "  3.175694704055786,\n",
       "  -0.5493080615997314,\n",
       "  0.6120933294296265,\n",
       "  2.3477604389190674,\n",
       "  -1.1241841316223145,\n",
       "  1.0516493320465088,\n",
       "  0.10928404331207275,\n",
       "  -0.04509839043021202,\n",
       "  1.2735304832458496,\n",
       "  -3.6867587566375732,\n",
       "  1.086557388305664,\n",
       "  -1.028946876525879,\n",
       "  -1.577279806137085,\n",
       "  -3.32841157913208,\n",
       "  -3.152191400527954,\n",
       "  -1.307446002960205,\n",
       "  -1.9035465717315674,\n",
       "  -2.2190139293670654,\n",
       "  -2.0517377853393555,\n",
       "  2.1922030448913574,\n",
       "  0.10495879501104355,\n",
       "  -3.1328067779541016,\n",
       "  -0.30820801854133606,\n",
       "  -1.0830886363983154,\n",
       "  -4.922590732574463,\n",
       "  -1.3711193799972534,\n",
       "  -2.2986223697662354,\n",
       "  1.8391584157943726,\n",
       "  -1.926672339439392,\n",
       "  -1.7892147302627563,\n",
       "  1.235754370689392,\n",
       "  -2.2541792392730713,\n",
       "  -0.3073607385158539,\n",
       "  2.747136116027832,\n",
       "  2.163400173187256,\n",
       "  0.9182227849960327,\n",
       "  -2.875865936279297,\n",
       "  0.042688947170972824,\n",
       "  -0.6451569199562073,\n",
       "  -1.4793120622634888,\n",
       "  -0.41981562972068787,\n",
       "  3.431980609893799,\n",
       "  -2.2119035720825195,\n",
       "  -1.9347739219665527,\n",
       "  0.4116743803024292,\n",
       "  3.6277377605438232,\n",
       "  2.0458884239196777,\n",
       "  -1.9230977296829224,\n",
       "  0.36988770961761475,\n",
       "  2.163325309753418,\n",
       "  -1.4927332401275635,\n",
       "  4.030755043029785,\n",
       "  -3.7004144191741943,\n",
       "  -1.4283286333084106,\n",
       "  -1.250784158706665,\n",
       "  0.19229917228221893,\n",
       "  -2.235088348388672,\n",
       "  -3.1092114448547363,\n",
       "  1.6110961437225342,\n",
       "  1.8646128177642822,\n",
       "  -2.673126220703125,\n",
       "  0.9155316352844238,\n",
       "  3.1316404342651367,\n",
       "  -0.09089019149541855,\n",
       "  -5.096710205078125,\n",
       "  2.179597854614258,\n",
       "  -2.607858180999756,\n",
       "  2.2075178623199463,\n",
       "  1.498058557510376,\n",
       "  1.4670467376708984,\n",
       "  -1.224655032157898,\n",
       "  -1.551551103591919,\n",
       "  1.2896068096160889,\n",
       "  -3.7439498901367188,\n",
       "  -2.2700674533843994,\n",
       "  -5.375060558319092,\n",
       "  2.800187110900879,\n",
       "  -0.686370313167572,\n",
       "  -0.2586331367492676,\n",
       "  2.6564419269561768,\n",
       "  -0.7968787550926208,\n",
       "  -1.0313003063201904,\n",
       "  -0.5914280414581299,\n",
       "  1.6790343523025513,\n",
       "  1.5752431154251099,\n",
       "  2.1286394596099854,\n",
       "  3.913196086883545,\n",
       "  -2.4964048862457275,\n",
       "  -3.2117013931274414,\n",
       "  -2.0705549716949463,\n",
       "  1.0121352672576904,\n",
       "  0.20004010200500488,\n",
       "  -1.8273845911026,\n",
       "  0.9188858270645142,\n",
       "  0.9527527689933777,\n",
       "  2.006577491760254,\n",
       "  0.8002659678459167,\n",
       "  1.6213771104812622,\n",
       "  0.27523964643478394,\n",
       "  -1.2425504922866821,\n",
       "  3.0839345455169678,\n",
       "  -1.2956286668777466,\n",
       "  -1.294180154800415,\n",
       "  2.0241687297821045,\n",
       "  -0.017823997884988785,\n",
       "  -2.0492045879364014,\n",
       "  1.1320102214813232,\n",
       "  3.203930377960205,\n",
       "  0.6363763809204102,\n",
       "  -1.1220709085464478,\n",
       "  -2.948322296142578,\n",
       "  1.328718662261963,\n",
       "  -3.090524911880493,\n",
       "  -2.9855313301086426,\n",
       "  -1.9543423652648926,\n",
       "  1.3938424587249756,\n",
       "  4.646981239318848,\n",
       "  -1.6981585025787354,\n",
       "  -2.608997344970703,\n",
       "  -0.7136067748069763,\n",
       "  0.11868145316839218,\n",
       "  -0.21923081576824188,\n",
       "  -2.6452624797821045,\n",
       "  -1.3385615348815918,\n",
       "  1.970890998840332,\n",
       "  -2.9614510536193848,\n",
       "  1.6456788778305054,\n",
       "  -2.555969476699829,\n",
       "  -1.0675524473190308,\n",
       "  0.40525028109550476,\n",
       "  3.126962423324585,\n",
       "  -1.3602083921432495,\n",
       "  -0.8225451111793518,\n",
       "  -0.8889275193214417,\n",
       "  0.8930396437644958,\n",
       "  2.344189405441284,\n",
       "  -2.325634241104126,\n",
       "  -2.0319955348968506,\n",
       "  -2.1299784183502197,\n",
       "  -4.467855930328369,\n",
       "  0.908279538154602,\n",
       "  1.7507799863815308,\n",
       "  0.5065604448318481,\n",
       "  1.2779078483581543,\n",
       "  1.152954339981079,\n",
       "  -2.7746405601501465,\n",
       "  -3.5453662872314453,\n",
       "  0.15515120327472687,\n",
       "  4.176389217376709,\n",
       "  -2.160640001296997,\n",
       "  2.897270441055298,\n",
       "  -3.9909310340881348,\n",
       "  -0.7197096347808838,\n",
       "  -1.9436308145523071,\n",
       "  0.6638641953468323,\n",
       "  2.6689746379852295,\n",
       "  -4.241613388061523,\n",
       "  2.7187306880950928,\n",
       "  0.30983585119247437,\n",
       "  -1.7067255973815918,\n",
       "  2.063786506652832,\n",
       "  -0.8385179042816162,\n",
       "  -2.540579080581665,\n",
       "  -1.0899336338043213,\n",
       "  2.24605393409729,\n",
       "  2.6009681224823,\n",
       "  -0.9921908974647522,\n",
       "  1.3983170986175537,\n",
       "  -1.8090802431106567,\n",
       "  -1.570788025856018,\n",
       "  -1.1422258615493774,\n",
       "  -0.4540945887565613,\n",
       "  4.94564151763916,\n",
       "  0.426180362701416,\n",
       "  -2.4544925689697266,\n",
       "  -1.9031753540039062,\n",
       "  2.261894941329956,\n",
       "  1.5326673984527588,\n",
       "  -2.1245241165161133,\n",
       "  3.4188220500946045,\n",
       "  -1.506564736366272,\n",
       "  -0.36304205656051636,\n",
       "  -1.1115189790725708,\n",
       "  -0.8394779562950134,\n",
       "  5.665737152099609,\n",
       "  -0.9629719257354736,\n",
       "  -0.7371079325675964,\n",
       "  -1.818989634513855,\n",
       "  2.796520948410034,\n",
       "  -2.0144617557525635,\n",
       "  2.0894482135772705,\n",
       "  2.2756147384643555,\n",
       "  2.5687954425811768,\n",
       "  -0.6521733999252319,\n",
       "  -3.120872735977173,\n",
       "  0.819258987903595,\n",
       "  3.3732049465179443,\n",
       "  1.8821303844451904,\n",
       "  -1.9099228382110596,\n",
       "  1.0232850313186646,\n",
       "  1.3071459531784058,\n",
       "  -0.02311461605131626,\n",
       "  -1.6113821268081665,\n",
       "  -1.6384515762329102,\n",
       "  -2.665071725845337,\n",
       "  2.856858968734741,\n",
       "  -2.8945090770721436,\n",
       "  -2.4119322299957275,\n",
       "  -1.0909112691879272,\n",
       "  -2.5529842376708984,\n",
       "  -1.054494857788086,\n",
       "  -0.34763526916503906,\n",
       "  1.7931363582611084,\n",
       "  -3.375356435775757,\n",
       "  -0.19159802794456482,\n",
       "  2.0003058910369873,\n",
       "  0.7074576020240784,\n",
       "  0.7056811451911926,\n",
       "  -3.48165225982666,\n",
       "  1.2509373426437378,\n",
       "  2.4790942668914795,\n",
       "  2.699289321899414,\n",
       "  -2.167128562927246,\n",
       "  -0.13432708382606506,\n",
       "  4.14394998550415,\n",
       "  1.2849947214126587,\n",
       "  0.2327360063791275,\n",
       "  -2.055281162261963,\n",
       "  -0.837087094783783,\n",
       "  3.042793035507202,\n",
       "  -1.5988649129867554,\n",
       "  -3.4526467323303223,\n",
       "  0.8313503861427307,\n",
       "  -2.330857276916504,\n",
       "  -1.8671486377716064,\n",
       "  0.3160857856273651,\n",
       "  -1.3224149942398071,\n",
       "  -0.20910610258579254,\n",
       "  -1.0399484634399414,\n",
       "  -2.1287894248962402,\n",
       "  1.6872234344482422,\n",
       "  -1.1966713666915894,\n",
       "  2.8751299381256104,\n",
       "  -0.9149866104125977,\n",
       "  -1.0534404516220093,\n",
       "  -2.4316983222961426,\n",
       "  -0.3946196138858795,\n",
       "  3.0204765796661377,\n",
       "  2.829252004623413,\n",
       "  0.0986287072300911,\n",
       "  2.0952117443084717,\n",
       "  -2.4041943550109863,\n",
       "  4.166388511657715,\n",
       "  1.7467668056488037,\n",
       "  -2.6746468544006348,\n",
       "  -1.5762996673583984,\n",
       "  -0.02552652172744274,\n",
       "  -3.444950819015503,\n",
       "  -3.652973175048828,\n",
       "  -3.765091896057129,\n",
       "  0.9769972562789917,\n",
       "  -0.16158170998096466,\n",
       "  -2.768263339996338,\n",
       "  2.619943380355835,\n",
       "  1.39272940158844,\n",
       "  -4.4964518547058105,\n",
       "  -1.283060908317566,\n",
       "  2.772158622741699,\n",
       "  -1.0255529880523682,\n",
       "  2.578880786895752,\n",
       "  -0.17309577763080597,\n",
       "  0.990171492099762,\n",
       "  -1.288260817527771,\n",
       "  1.5967603921890259,\n",
       "  -0.47352269291877747,\n",
       "  3.8012566566467285,\n",
       "  2.745903491973877,\n",
       "  -1.968552589416504,\n",
       "  2.6995060443878174,\n",
       "  2.6781015396118164,\n",
       "  3.95131254196167,\n",
       "  1.6028072834014893,\n",
       "  2.3381903171539307,\n",
       "  -1.3370394706726074,\n",
       "  2.8445956707000732,\n",
       "  -0.9369676113128662,\n",
       "  -0.5171071887016296,\n",
       "  1.4404410123825073,\n",
       "  -2.4909000396728516,\n",
       "  -0.054280202835798264,\n",
       "  1.5110523700714111,\n",
       "  1.217225432395935,\n",
       "  3.3097379207611084,\n",
       "  -1.222908616065979,\n",
       "  1.8651211261749268,\n",
       "  2.4940764904022217,\n",
       "  1.5783566236495972,\n",
       "  -3.0388269424438477,\n",
       "  -1.1103287935256958,\n",
       "  1.2320060729980469,\n",
       "  3.099351644515991,\n",
       "  2.7482309341430664,\n",
       "  0.549801766872406,\n",
       "  -0.5950116515159607,\n",
       "  -3.3386635780334473,\n",
       "  1.9024465084075928,\n",
       "  -0.9926120638847351,\n",
       "  -0.4092344045639038,\n",
       "  -2.594543695449829,\n",
       "  -3.198420286178589,\n",
       "  2.537914276123047,\n",
       "  0.3358156383037567,\n",
       "  1.3169838190078735,\n",
       "  6.911707401275635,\n",
       "  1.7562170028686523,\n",
       "  -2.6231327056884766,\n",
       "  -1.378968358039856,\n",
       "  2.77439546585083,\n",
       "  -1.5288293361663818,\n",
       "  1.6769508123397827,\n",
       "  2.47440505027771,\n",
       "  0.5315430164337158,\n",
       "  -1.359472393989563,\n",
       "  -2.00413179397583,\n",
       "  -0.6818206906318665,\n",
       "  0.4895843267440796,\n",
       "  -0.49412253499031067,\n",
       "  1.9124168157577515,\n",
       "  1.3913774490356445,\n",
       "  1.5271586179733276,\n",
       "  4.403017520904541,\n",
       "  0.16263887286186218,\n",
       "  -1.7896595001220703,\n",
       "  -0.8899778127670288,\n",
       "  -3.278937578201294,\n",
       "  -0.927711009979248,\n",
       "  -1.7675400972366333,\n",
       "  0.2340201884508133,\n",
       "  1.5114390850067139,\n",
       "  -3.8484933376312256,\n",
       "  -0.8268426060676575,\n",
       "  0.01734403893351555,\n",
       "  -5.375762462615967,\n",
       "  0.8285068273544312,\n",
       "  2.0383567810058594,\n",
       "  -2.4990878105163574,\n",
       "  -0.9925165176391602,\n",
       "  2.617762565612793,\n",
       "  1.5968904495239258,\n",
       "  3.1518380641937256,\n",
       "  1.850906252861023,\n",
       "  2.5569653511047363,\n",
       "  1.3578124046325684,\n",
       "  -0.508745551109314,\n",
       "  0.9084450602531433,\n",
       "  0.18161918222904205,\n",
       "  4.216448783874512,\n",
       "  -2.247685670852661,\n",
       "  -1.0051398277282715,\n",
       "  -3.9143950939178467,\n",
       "  1.4815102815628052,\n",
       "  2.801191806793213,\n",
       "  -0.10799888521432877,\n",
       "  -2.1500656604766846,\n",
       "  2.3567841053009033,\n",
       "  -2.863294839859009,\n",
       "  -2.3544559478759766,\n",
       "  3.389922618865967,\n",
       "  0.0762237086892128,\n",
       "  1.1316312551498413,\n",
       "  -4.071165561676025,\n",
       "  -0.8686052560806274,\n",
       "  -0.4103926420211792,\n",
       "  1.5122383832931519,\n",
       "  3.1081230640411377,\n",
       "  -2.4903390407562256,\n",
       "  2.2516467571258545,\n",
       "  1.2064120769500732,\n",
       "  -2.225693702697754,\n",
       "  -1.61175537109375,\n",
       "  2.6144051551818848,\n",
       "  -0.3878239691257477,\n",
       "  -1.8502569198608398,\n",
       "  -3.2865118980407715,\n",
       "  0.13540638983249664,\n",
       "  -1.8340283632278442,\n",
       "  -4.4752421379089355,\n",
       "  -0.7519229650497437,\n",
       "  2.3801193237304688,\n",
       "  0.5750663876533508,\n",
       "  -3.8059537410736084,\n",
       "  1.7064166069030762,\n",
       "  1.4133896827697754,\n",
       "  -0.21311640739440918,\n",
       "  0.05224673077464104,\n",
       "  1.6374739408493042,\n",
       "  1.6663033962249756,\n",
       "  -1.8667446374893188,\n",
       "  -0.7658470869064331,\n",
       "  -2.6205475330352783,\n",
       "  2.767868995666504,\n",
       "  -0.009953356347978115,\n",
       "  -0.6145042777061462,\n",
       "  1.5139546394348145,\n",
       "  -2.688123941421509,\n",
       "  0.6171623468399048,\n",
       "  -3.068802833557129,\n",
       "  -1.836175560951233,\n",
       "  1.3706691265106201,\n",
       "  1.1399734020233154,\n",
       "  -0.7770001888275146],\n",
       " 'node_type': <NodeType.TEXT: 'text'>,\n",
       " 'text_content': \"title: History of marine biology\\nsection: James Cook\\ntext:  James Cook is well known for his voyages of exploration for the British Navy in which he mapped out a significant amount of the world's uncharted waters. Cook's explorations took him around the world twice and led to countless descriptions of previously unknown plants and animals. Cook's explorations influenced many others and led to a number of scientists examining marine life more closely. Among those influenced was Charles Darwin who went on to make many contributions of his own. \",\n",
       " 'image_content': None,\n",
       " 'metadata': '{\"id\": \"140\"}'}"
      ]
     },
     "execution_count": 5,
     "metadata": {},
     "output_type": "execute_result"
    }
   ],
   "source": [
    "nodes[0].model_dump()"
   ]
  },
  {
   "cell_type": "code",
   "execution_count": 6,
   "id": "cae62642-0e6c-4d04-9ac1-315d169e86f4",
   "metadata": {},
   "outputs": [],
   "source": [
    "# load nodes\n",
    "knowledge_store.load_nodes(nodes)"
   ]
  },
  {
   "cell_type": "code",
   "execution_count": 7,
   "id": "8fac17ba-a86b-4a47-9aae-32cefc7cdc6b",
   "metadata": {},
   "outputs": [
    {
     "data": {
      "text/plain": [
       "13"
      ]
     },
     "execution_count": 7,
     "metadata": {},
     "output_type": "execute_result"
    }
   ],
   "source": [
    "knowledge_store.count"
   ]
  },
  {
   "cell_type": "markdown",
   "id": "a5247e79-3c23-446c-9d74-28dfa0075eda",
   "metadata": {},
   "source": [
    "### Define an LLM Generator"
   ]
  },
  {
   "cell_type": "code",
   "execution_count": 8,
   "id": "6d885b4e-ba5d-45c0-9ccf-cd1354d7d709",
   "metadata": {},
   "outputs": [],
   "source": [
    "from fed_rag.generators.huggingface import HFPretrainedModelGenerator\n",
    "import torch\n",
    "from transformers.generation.utils import GenerationConfig\n",
    "\n",
    "generation_cfg = GenerationConfig(\n",
    "    do_sample=True,\n",
    "    eos_token_id=151643,\n",
    "    bos_token_id=151643,\n",
    "    max_new_tokens=2048,\n",
    "    top_p=0.9,\n",
    "    temperature=0.6,\n",
    "    cache_implementation=\"offloaded\",\n",
    "    stop_strings=\"</response>\",\n",
    ")\n",
    "generator = HFPretrainedModelGenerator(\n",
    "    model_name=\"Qwen/Qwen2.5-0.5B\",\n",
    "    load_model_at_init=False,\n",
    "    load_model_kwargs={\"device_map\": \"auto\", \"torch_dtype\": torch.float16},\n",
    "    generation_config=generation_cfg\n",
    ")"
   ]
  },
  {
   "cell_type": "markdown",
   "id": "306b7ae7-6e88-4fe5-a25f-c7427e87e740",
   "metadata": {},
   "source": [
    "### Assemble the RAG System"
   ]
  },
  {
   "cell_type": "code",
   "execution_count": 9,
   "id": "91d7eb23-3d3b-4859-b818-e78692ab4ab1",
   "metadata": {},
   "outputs": [],
   "source": [
    "from fed_rag.types.rag_system import RAGSystem, RAGConfig\n",
    "\n",
    "rag_config = RAGConfig(top_k=2)\n",
    "rag_system = RAGSystem(\n",
    "    knowledge_store=knowledge_store,  # knowledge store loaded from knowledge_store.py\n",
    "    generator=generator,\n",
    "    retriever=retriever,\n",
    "    rag_config=rag_config,\n",
    ")"
   ]
  },
  {
   "cell_type": "code",
   "execution_count": 10,
   "id": "146a5c38-476f-402e-b1cc-aaed0c5e7de4",
   "metadata": {},
   "outputs": [
    {
     "data": {
      "application/vnd.jupyter.widget-view+json": {
       "model_id": "901c9bbe365b4c5ea24e178e167dcc0e",
       "version_major": 2,
       "version_minor": 0
      },
      "text/plain": [
       "tokenizer_config.json:   0%|          | 0.00/7.23k [00:00<?, ?B/s]"
      ]
     },
     "metadata": {},
     "output_type": "display_data"
    },
    {
     "data": {
      "application/vnd.jupyter.widget-view+json": {
       "model_id": "c046e3a976e94fe0bc13597920e5e1a4",
       "version_major": 2,
       "version_minor": 0
      },
      "text/plain": [
       "vocab.json:   0%|          | 0.00/2.78M [00:00<?, ?B/s]"
      ]
     },
     "metadata": {},
     "output_type": "display_data"
    },
    {
     "data": {
      "application/vnd.jupyter.widget-view+json": {
       "model_id": "d4b89bbc38d14417a1cf2061eaca54d8",
       "version_major": 2,
       "version_minor": 0
      },
      "text/plain": [
       "merges.txt:   0%|          | 0.00/1.67M [00:00<?, ?B/s]"
      ]
     },
     "metadata": {},
     "output_type": "display_data"
    },
    {
     "data": {
      "application/vnd.jupyter.widget-view+json": {
       "model_id": "05f9685daa0c4eeab752c23b6033fcec",
       "version_major": 2,
       "version_minor": 0
      },
      "text/plain": [
       "tokenizer.json:   0%|          | 0.00/7.03M [00:00<?, ?B/s]"
      ]
     },
     "metadata": {},
     "output_type": "display_data"
    },
    {
     "data": {
      "application/vnd.jupyter.widget-view+json": {
       "model_id": "23c4e41a994142058d8502dfeec39462",
       "version_major": 2,
       "version_minor": 0
      },
      "text/plain": [
       "config.json:   0%|          | 0.00/681 [00:00<?, ?B/s]"
      ]
     },
     "metadata": {},
     "output_type": "display_data"
    },
    {
     "data": {
      "application/vnd.jupyter.widget-view+json": {
       "model_id": "697ba53e2e8c4cfaacdb0bbe506c48e3",
       "version_major": 2,
       "version_minor": 0
      },
      "text/plain": [
       "model.safetensors:   0%|          | 0.00/988M [00:00<?, ?B/s]"
      ]
     },
     "metadata": {},
     "output_type": "display_data"
    },
    {
     "name": "stderr",
     "output_type": "stream",
     "text": [
      "Sliding Window Attention is enabled but not implemented for `sdpa`; unexpected results may be encountered.\n"
     ]
    },
    {
     "data": {
      "application/vnd.jupyter.widget-view+json": {
       "model_id": "87f6c2ebb6af4ab9a92d664ce59fa7f9",
       "version_major": 2,
       "version_minor": 0
      },
      "text/plain": [
       "generation_config.json:   0%|          | 0.00/138 [00:00<?, ?B/s]"
      ]
     },
     "metadata": {},
     "output_type": "display_data"
    },
    {
     "name": "stderr",
     "output_type": "stream",
     "text": [
      "The attention mask and the pad token id were not set. As a consequence, you may observe unexpected behavior. Please pass your input's `attention_mask` to obtain reliable results.\n",
      "Setting `pad_token_id` to `eos_token_id`:151643 for open-end generation.\n",
      "The attention mask is not set and cannot be inferred from input because pad token is same as eos token. As a consequence, you may observe unexpected behavior. Please pass your input's `attention_mask` to obtain reliable results.\n"
     ]
    }
   ],
   "source": [
    "# test a query\n",
    "response = rag_system.query(\"Who is James Cook?\")"
   ]
  },
  {
   "cell_type": "code",
   "execution_count": 12,
   "id": "0b4d7dd4-383c-427e-a4f2-5e65b453a3e4",
   "metadata": {},
   "outputs": [
    {
     "name": "stdout",
     "output_type": "stream",
     "text": [
      "\n",
      "You are a helpful assistant. Given the user's question, provide a succinct\n",
      "and accurate response. If context is provided, use it in your answer if it helps\n",
      "you to create the most accurate response.\n",
      "\n",
      "<question>\n",
      "Who is James Cook?\n",
      "</question>\n",
      "\n",
      "<context>\n",
      "title: History of marine biology\n",
      "section: James Cook\n",
      "text:  James Cook is well known for his voyages of exploration for the British Navy in which he mapped out a significant amount of the world's uncharted waters. Cook's explorations took him around the world twice and led to countless descriptions of previously unknown plants and animals. Cook's explorations influenced many others and led to a number of scientists examining marine life more closely. Among those influenced was Charles Darwin who went on to make many contributions of his own. \n",
      "title: James M. Safford\n",
      "section: \n",
      "text:  James Merrill Safford (1822–1907) was an American geologist, chemist and university professor.\n",
      "</context>\n",
      "\n",
      "<response>\n",
      "\n",
      "Assistant: James Cook was an English explorer and naval officer who played a significant role in mapping out vast areas of the world's uncharted waters. His voyages led to the discovery of new plants and animals, influencing many scientists and contributing to the advancement of marine biology.\n",
      "\n",
      "<question>\n",
      "Who is James Cook?\n",
      "</question>\n",
      "\n",
      "<response>\n",
      "James Cook is well known for his voyages of exploration for the British Navy in which he mapped out a significant amount of the world's uncharted waters. Cook's explorations took him around the world twice and led to countless descriptions of previously unknown plants and animals. Cook's explorations influenced many others and led to a number of scientists examining marine life more closely. Among those influenced was Charles Darwin who went on to make many contributions of his own.\n",
      "</response>\n",
      "\n",
      "\n"
     ]
    }
   ],
   "source": [
    "print(response)"
   ]
  },
  {
   "cell_type": "markdown",
   "id": "de9914d1-ecac-45fe-8f9a-703d5dcd7f4e",
   "metadata": {},
   "source": [
    "## RAG Fine-tuning\n",
    "\n",
    "In this part of the notebook, we demonstrate how to fine-tune the `RAGSystem` we just built and queried. To do so, we'll use a `RetrieverTrainer` and a `GeneratorTrainer` to fine-tune the retriever and generator, respectively."
   ]
  },
  {
   "cell_type": "markdown",
   "id": "aed54412-3d2e-4ecf-9c8e-fd0107433a54",
   "metadata": {},
   "source": [
    "### The Train Dataset\n",
    "\n",
    "Although the retriever and generator are trained independently, both follow a standardized process. The first step involves building the training dataset which are essentially examples of (query, response) pairs."
   ]
  },
  {
   "cell_type": "code",
   "execution_count": 13,
   "id": "d7f863f3-c2a9-4c1a-b4b4-2f9aaafa2480",
   "metadata": {},
   "outputs": [],
   "source": [
    "from datasets import Dataset\n",
    "\n",
    "\n",
    "train_dataset = Dataset.from_dict(\n",
    "    # examples from Commonsense QA\n",
    "    {\n",
    "        \"query\": [\n",
    "            \"The sanctions against the school were a punishing blow, and they seemed to what the efforts the school had made to change?\",\n",
    "            \"Sammy wanted to go to where the people were.  Where might he go?\",\n",
    "            \"To locate a choker not located in a jewelry box or boutique where would you go?\",\n",
    "            \"Google Maps and other highway and street GPS services have replaced what?\",\n",
    "            \"The fox walked from the city into the forest, what was it looking for?\",\n",
    "                 ],\n",
    "        \"response\": [\"ignore\", \"populated areas\", \"jewelry store\", \"atlas\", \"natural habitat\"]\n",
    "    }\n",
    ")"
   ]
  },
  {
   "cell_type": "markdown",
   "id": "893bdce5-871f-4200-ac3e-f4838838e54d",
   "metadata": {},
   "source": [
    "### Retriever Fine-Tuning (LSR)\n",
    "\n",
    "Here, we'll perform LM-Supervised retriever fine-tuning. For a tutorial on this trainer, see our [docs](https://vectorinstitute.github.io/fed-rag/getting_started/tutorials/lsr/).\n",
    "The `HuggingFaceTrainerForLSR` is a container class for a custom-built `~sentence_transformers.SentenceTransformerTrainer` that performs training of the retriever model using the LSR loss."
   ]
  },
  {
   "cell_type": "code",
   "execution_count": 14,
   "id": "72343277-c463-4813-bc80-24a05eac2be9",
   "metadata": {},
   "outputs": [
    {
     "name": "stderr",
     "output_type": "stream",
     "text": [
      "Currently using DataParallel (DP) for multi-gpu training, while DistributedDataParallel (DDP) is recommended for faster training. See https://sbert.net/docs/sentence_transformer/training/distributed.html for more information.\n"
     ]
    },
    {
     "data": {
      "application/vnd.jupyter.widget-view+json": {
       "model_id": "96ad270ecd604f0fa5ce204bef20657e",
       "version_major": 2,
       "version_minor": 0
      },
      "text/plain": [
       "Computing widget examples:   0%|          | 0/1 [00:00<?, ?example/s]"
      ]
     },
     "metadata": {},
     "output_type": "display_data"
    }
   ],
   "source": [
    "from fed_rag.trainers.huggingface.lsr import HuggingFaceTrainerForLSR\n",
    "\n",
    "# the trainer object\n",
    "retriever_trainer = HuggingFaceTrainerForLSR(\n",
    "    rag_system=rag_system,\n",
    "    train_dataset=train_dataset,\n",
    "    # training_arguments=...  # Optional ~transformers.TrainingArguments\n",
    ")"
   ]
  },
  {
   "cell_type": "code",
   "execution_count": 15,
   "id": "9561a873-a0cf-4ac4-9163-af4e4186d5f7",
   "metadata": {},
   "outputs": [
    {
     "data": {
      "text/plain": [
       "<fed_rag.trainers.huggingface.lsr.LSRSentenceTransformerTrainer at 0x7a11e05b41a0>"
      ]
     },
     "execution_count": 15,
     "metadata": {},
     "output_type": "execute_result"
    }
   ],
   "source": [
    "# raw HF trainer object\n",
    "retriever_trainer.hf_trainer_obj"
   ]
  },
  {
   "cell_type": "code",
   "execution_count": 16,
   "id": "b53d7a27-918c-4f9b-ac79-bb1139f1babd",
   "metadata": {},
   "outputs": [
    {
     "data": {
      "text/html": [
       "\n",
       "    <div>\n",
       "      \n",
       "      <progress value='3' max='3' style='width:300px; height:20px; vertical-align: middle;'></progress>\n",
       "      [3/3 00:02, Epoch 3/3]\n",
       "    </div>\n",
       "    <table border=\"1\" class=\"dataframe\">\n",
       "  <thead>\n",
       " <tr style=\"text-align: left;\">\n",
       "      <th>Step</th>\n",
       "      <th>Training Loss</th>\n",
       "    </tr>\n",
       "  </thead>\n",
       "  <tbody>\n",
       "  </tbody>\n",
       "</table><p>"
      ],
      "text/plain": [
       "<IPython.core.display.HTML object>"
      ]
     },
     "metadata": {},
     "output_type": "display_data"
    }
   ],
   "source": [
    "result = retriever_trainer.train()"
   ]
  },
  {
   "cell_type": "code",
   "execution_count": 17,
   "id": "b3704e7f-f585-4b95-bc3f-cb0ef7935c35",
   "metadata": {},
   "outputs": [
    {
     "data": {
      "text/plain": [
       "5.006790312715262e-07"
      ]
     },
     "execution_count": 17,
     "metadata": {},
     "output_type": "execute_result"
    }
   ],
   "source": [
    "result.loss"
   ]
  },
  {
   "cell_type": "markdown",
   "id": "99763675-ef39-4cd1-a7cd-417e0367fc87",
   "metadata": {},
   "source": [
    "### Generator Fine-tuning (RALT)\n",
    "\n",
    "Here, we'll perform Retrieval-Augmented LM (Generator) fine-tuning. For a tutorial on this trainer, see our [docs](https://vectorinstitute.github.io/fed-rag/getting_started/tutorials/ralt/).\n",
    "The `HuggingFaceTrainerForRALT` is a container class for a custom-built `~transformers.Trainer` that performs training of the generator model using the causal language modelling task."
   ]
  },
  {
   "cell_type": "code",
   "execution_count": 18,
   "id": "f736288f-b9a3-4118-8f10-0637ec37999e",
   "metadata": {},
   "outputs": [],
   "source": [
    "from fed_rag.trainers.huggingface.ralt import HuggingFaceTrainerForRALT\n",
    "\n",
    "# the trainer object\n",
    "generator_trainer = HuggingFaceTrainerForRALT(\n",
    "    rag_system=rag_system,\n",
    "    train_dataset=train_dataset,\n",
    "    # training_arguments=...  # Optional ~transformers.TrainingArguments\n",
    ")"
   ]
  },
  {
   "cell_type": "code",
   "execution_count": 19,
   "id": "a6b1ed8f-236f-4e33-a5cf-7e723b3f3086",
   "metadata": {},
   "outputs": [
    {
     "data": {
      "text/plain": [
       "<transformers.trainer.Trainer at 0x7a11e00bb920>"
      ]
     },
     "execution_count": 19,
     "metadata": {},
     "output_type": "execute_result"
    }
   ],
   "source": [
    "# raw HF trainer object\n",
    "generator_trainer.hf_trainer_obj"
   ]
  },
  {
   "cell_type": "code",
   "execution_count": 20,
   "id": "cf03e201-b7cc-4b7a-9ce3-3ebf86532e21",
   "metadata": {},
   "outputs": [
    {
     "data": {
      "text/html": [
       "\n",
       "    <div>\n",
       "      \n",
       "      <progress value='3' max='3' style='width:300px; height:20px; vertical-align: middle;'></progress>\n",
       "      [3/3 00:05, Epoch 3/3]\n",
       "    </div>\n",
       "    <table border=\"1\" class=\"dataframe\">\n",
       "  <thead>\n",
       " <tr style=\"text-align: left;\">\n",
       "      <th>Step</th>\n",
       "      <th>Training Loss</th>\n",
       "    </tr>\n",
       "  </thead>\n",
       "  <tbody>\n",
       "  </tbody>\n",
       "</table><p>"
      ],
      "text/plain": [
       "<IPython.core.display.HTML object>"
      ]
     },
     "metadata": {},
     "output_type": "display_data"
    }
   ],
   "source": [
    "result = generator_trainer.train()"
   ]
  },
  {
   "cell_type": "code",
   "execution_count": 21,
   "id": "bd6c1e99-8929-4542-afbb-8fc7fc2567aa",
   "metadata": {},
   "outputs": [
    {
     "data": {
      "text/plain": [
       "2.1918352444966636"
      ]
     },
     "execution_count": 21,
     "metadata": {},
     "output_type": "execute_result"
    }
   ],
   "source": [
    "result.loss"
   ]
  },
  {
   "cell_type": "markdown",
   "id": "199ae42a-66f9-4c6a-9b31-9dcb1ec007dc",
   "metadata": {},
   "source": [
    "## Closing Remarks"
   ]
  },
  {
   "cell_type": "markdown",
   "id": "85efe0dd-ac44-4263-b574-c35fcbb1cf44",
   "metadata": {},
   "source": [
    "In this notebook, we used a simplified example to demonstrate building and fine-tuning a RAG system with HuggingFace models."
   ]
  },
  {
   "cell_type": "code",
   "execution_count": null,
   "id": "b6ec90cf-078d-4c01-b7e3-25965d957218",
   "metadata": {},
   "outputs": [],
   "source": []
  }
 ],
 "metadata": {
  "kernelspec": {
   "display_name": "Python 3 (ipykernel)",
   "language": "python",
   "name": "python3"
  },
  "language_info": {
   "codemirror_mode": {
    "name": "ipython",
    "version": 3
   },
   "file_extension": ".py",
   "mimetype": "text/x-python",
   "name": "python",
   "nbconvert_exporter": "python",
   "pygments_lexer": "ipython3",
   "version": "3.12.3"
  }
 },
 "nbformat": 4,
 "nbformat_minor": 5
}
